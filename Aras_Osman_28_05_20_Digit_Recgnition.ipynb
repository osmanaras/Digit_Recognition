{
 "cells": [
  {
   "cell_type": "markdown",
   "metadata": {},
   "source": [
    "Ce Notebook à été exporter du notebook de kaggle. Pour avoir les output des cells, veuillez importer ce notebook dans un notebook créer sur kaggle."
   ]
  },
  {
   "cell_type": "code",
   "execution_count": null,
   "metadata": {
    "_cell_guid": "79c7e3d0-c299-4dcb-8224-4455121ee9b0",
    "_uuid": "d629ff2d2480ee46fbb7e2d37f6b5fab8052498a"
   },
   "outputs": [],
   "source": [
    "import matplotlib.pyplot as plt\n",
    "import pandas as pd\n",
    "import numpy as np\n",
    "import tensorflow as tf\n",
    "import seaborn as sns\n",
    "\n",
    "train = pd.read_csv('../input/digit-recognizer/train.csv')\n",
    "test = pd.read_csv('/kaggle/input/digit-recognizer/test.csv')"
   ]
  },
  {
   "cell_type": "code",
   "execution_count": null,
   "metadata": {},
   "outputs": [],
   "source": [
    "print(train.shape)\n",
    "train.head(2)"
   ]
  },
  {
   "cell_type": "code",
   "execution_count": null,
   "metadata": {},
   "outputs": [],
   "source": [
    "print(test.shape)\n",
    "test.head(2)"
   ]
  },
  {
   "cell_type": "code",
   "execution_count": null,
   "metadata": {},
   "outputs": [],
   "source": [
    "x_train = train.iloc[:,1:]\n",
    "y_train = train.iloc[:,0]"
   ]
  },
  {
   "cell_type": "code",
   "execution_count": null,
   "metadata": {},
   "outputs": [],
   "source": [
    "def to_matrice(l):\n",
    "    \n",
    "    \"\"\"\n",
    "    @ params : l -> liste contenant les valeurs des pixels\n",
    "    @ return : m -> matrice de taille 28*28\n",
    "     \n",
    "    @ descripton : Transforme la liste applatie en matrice\n",
    "    \"\"\"\n",
    "    \n",
    "    m = np.empty((28,28))\n",
    "    \n",
    "    for i in range(len(m)):\n",
    "        for j in range(len(m[i])):\n",
    "            m[i,j] = l[28*i+j]\n",
    "    \n",
    "    return m"
   ]
  },
  {
   "cell_type": "code",
   "execution_count": null,
   "metadata": {},
   "outputs": [],
   "source": [
    "n = 5\n",
    "\n",
    "fig, axs = plt.subplots(1,n)\n",
    "plt.title('none normalized',loc='center')\n",
    "for i in range(n):\n",
    "    m = to_matrice(x_train.iloc[i,:])\n",
    "    axs[i].imshow(m, cmap=plt.cm.binary)\n",
    "    axs[i].set_title(str(y_train.iloc[i]))\n",
    "plt.show\n"
   ]
  },
  {
   "cell_type": "code",
   "execution_count": null,
   "metadata": {},
   "outputs": [],
   "source": [
    "sns.countplot(y_train)\n",
    "plt.title(\"Nombre d'image pour chaque chiffre\")\n",
    "plt.xlabel(\"Chiffre\")\n",
    "plt.ylabel('Nombre')"
   ]
  },
  {
   "cell_type": "code",
   "execution_count": null,
   "metadata": {},
   "outputs": [],
   "source": [
    "# Normalization des pixels\n",
    "x_train = tf.keras.utils.normalize(x_train)\n",
    "test = tf.keras.utils.normalize(test)\n",
    "\n",
    "# transformation des classes en vecteur \n",
    "y_train = tf.keras.utils.to_categorical(y=y_train,\n",
    "                                       num_classes= y_train.nunique(),\n",
    "                                       dtype='float64')\n",
    "y_train[0]"
   ]
  },
  {
   "cell_type": "code",
   "execution_count": null,
   "metadata": {},
   "outputs": [],
   "source": [
    "model = tf.keras.Sequential()\n",
    "\n",
    "# Flattern permet de transformer les nD array en 1D array et de rajouter un channel si il n'y en a pas\n",
    "model.add(tf.keras.layers.Flatten())\n",
    "# 1ere couche\n",
    "model.add(tf.keras.layers.Dense(392, activation=tf.nn.relu))\n",
    "# 2eme couche\n",
    "model.add(tf.keras.layers.Dense(392, activation=tf.nn.relu))\n",
    "# couche de sortie\n",
    "model.add(tf.keras.layers.Dense(10, activation=tf.nn.softmax))\n",
    "\n",
    "\n",
    "model.compile(optimizer ='adam',\n",
    "              loss ='categorical_crossentropy',\n",
    "              metrics=['accuracy']\n",
    "             )"
   ]
  },
  {
   "cell_type": "code",
   "execution_count": null,
   "metadata": {},
   "outputs": [],
   "source": [
    "history = model.fit(x_train.values,y_train,epochs=50,validation_split=0.30,verbose=1)"
   ]
  },
  {
   "cell_type": "code",
   "execution_count": null,
   "metadata": {},
   "outputs": [],
   "source": [
    "\n",
    "fig, ax = plt.subplots(2,1)\n",
    "# 1ere subplot\n",
    "ax[0].plot(history.history['loss'],'r',label='loss')\n",
    "ax[0].plot(history.history['val_loss'],'g',label='val_loss')\n",
    "ax[0].set_title('NN results')\n",
    "ax[0].legend()\n",
    "\n",
    "# 2eme subplot\n",
    "ax[1].plot(history.history['accuracy'],'b',label='acc')\n",
    "ax[1].plot(history.history['val_accuracy'],'g',label='val_acc')\n",
    "#ax[1].set_title('acc')\n",
    "plt.legend()\n",
    "\n"
   ]
  },
  {
   "cell_type": "code",
   "execution_count": null,
   "metadata": {},
   "outputs": [],
   "source": [
    "predic = model.predict(test)"
   ]
  },
  {
   "cell_type": "code",
   "execution_count": null,
   "metadata": {},
   "outputs": [],
   "source": [
    "n = 10\n",
    "\n",
    "# affichage des chiffres predit\n",
    "l = []\n",
    "for i in range(10):\n",
    "    l.append(predic[i].argmax())\n",
    "\n",
    "print(l)\n",
    "\n",
    "# affichage des chiffres attendu\n",
    "fig, axs = plt.subplots(1,n)\n",
    "#plt.title('none normalized',loc='center')\n",
    "for i in range(n):\n",
    "    m = to_matrice(test.iloc[i,:])\n",
    "    axs[i].imshow(m, cmap=plt.cm.binary)\n",
    "    #axs[i].set_title(str(i))\n",
    "    axs[i].axis('off')\n",
    "plt.show"
   ]
  },
  {
   "cell_type": "markdown",
   "metadata": {},
   "source": [
    "# CNN"
   ]
  },
  {
   "cell_type": "code",
   "execution_count": null,
   "metadata": {},
   "outputs": [],
   "source": [
    "# Pour utiliser CNN il faut que les images ne soit pas aplati. Pour cela on va les réajuster nos données.\n",
    "CNN_train = np.array(x_train)\n",
    "CNN_train = CNN_train.reshape(-1,28,28,1)\n",
    "CNN_train.shape"
   ]
  },
  {
   "cell_type": "code",
   "execution_count": null,
   "metadata": {},
   "outputs": [],
   "source": [
    "CNN_model = tf.keras.Sequential()\n",
    "\n",
    "# 1ere couche de convolution avec une fenetre de 4*4 \n",
    "CNN_model.add(tf.keras.layers.Conv2D( filters=16,input_shape=(28,28,1), kernel_size=(4,4), activation='relu'))\n",
    "\n",
    "# normalize les inputs.Plus utile vu que les images sont déjà normalizer\n",
    "#CNN_model.add(tf.keras.layers.BatchNormalization())\n",
    "\n",
    "# Couche permettant prendre la valeur maximal des pixels dans la fenetre 2*2\n",
    "# Cela permet de réduire la taille de l'image\n",
    "CNN_model.add(tf.keras.layers.MaxPool2D(strides=(2,2)))\n",
    "\n",
    "# 2eme couche de convolution avec une fenetre de 4*4\n",
    "CNN_model.add(tf.keras.layers.Conv2D( filters=16,input_shape=(28,28,1), kernel_size=(4,4), activation='relu'))\n",
    "\n",
    "#CNN_model.add(tf.keras.layers.BatchNormalization())\n",
    "\n",
    "# idem\n",
    "CNN_model.add(tf.keras.layers.MaxPool2D(strides=(2,2)))\n",
    "\n",
    "# Dropout permet de mettre à zero certaines valeur du input à une fréquence de 0.25*\n",
    "# Utile de le faire pour éviter le overfitting \n",
    "CNN_model.add(tf.keras.layers.Dropout(0.25))\n",
    "\n",
    "#flattern permet d'aplatir l'image c'esta dire passer de ND à 1D\n",
    "CNN_model.add(tf.keras.layers.Flatten())\n",
    "\n",
    "# 1ere couche\n",
    "CNN_model.add(tf.keras.layers.Dense(512, activation='relu'))\n",
    "CNN_model.add(tf.keras.layers.Dropout(0.25))\n",
    "\n",
    "# 2eme couche\n",
    "CNN_model.add(tf.keras.layers.Dense(1024, activation='relu'))\n",
    "CNN_model.add(tf.keras.layers.Dropout(0.5))\n",
    "\n",
    "# couche de sorti (output layer)\n",
    "CNN_model.add(tf.keras.layers.Dense(10, activation='softmax'))\n",
    "\n",
    "\n",
    "\n",
    "CNN_model.compile(optimizer='adam',\n",
    "                 loss='categorical_crossentropy',\n",
    "                 metrics=['accuracy'])"
   ]
  },
  {
   "cell_type": "code",
   "execution_count": null,
   "metadata": {},
   "outputs": [],
   "source": [
    "cnn_history = CNN_model.fit(CNN_train,y_train,epochs=50,validation_split=0.3)"
   ]
  },
  {
   "cell_type": "code",
   "execution_count": null,
   "metadata": {},
   "outputs": [],
   "source": [
    "fig, ax = plt.subplots(2,1,sharex=True)\n",
    "#plt.title()\n",
    "# 1ere subplot\n",
    "ax[0].plot(cnn_history.history['loss'],'r',label='loss')\n",
    "ax[0].plot(cnn_history.history['val_loss'],'g',label='val_loss')\n",
    "ax[0].set_title('CNN results')\n",
    "ax[0].legend()\n",
    "\n",
    "# 2eme subplot\n",
    "ax[1].plot(cnn_history.history['accuracy'],'b',label='acc')\n",
    "ax[1].plot(cnn_history.history['val_accuracy'],'g',label='val_acc')\n",
    "#ax[1].set_title('acc')\n",
    "ax[1].legend()\n",
    "plt.xlabel('Epochs')\n"
   ]
  },
  {
   "cell_type": "code",
   "execution_count": null,
   "metadata": {},
   "outputs": [],
   "source": [
    "print('acc mean : '+str(np.mean(cnn_history.history['val_accuracy'])*100))\n",
    "print('acc max : '+str(np.max(cnn_history.history['val_accuracy'])*100))\n",
    "print('loss mean : '+str(np.mean(cnn_history.history['val_loss'])))\n",
    "print('loss min : '+str(np.min(cnn_history.history['val_loss'])))"
   ]
  },
  {
   "cell_type": "code",
   "execution_count": null,
   "metadata": {},
   "outputs": [],
   "source": [
    "plt.subplot(121)\n",
    "sns.boxplot(cnn_history.history['val_accuracy'],orient='v')\n",
    "plt.title('val_acc')\n",
    "plt.subplot(122)\n",
    "sns.boxplot(cnn_history.history['val_loss'],orient='v')\n",
    "plt.title('val_loss')"
   ]
  },
  {
   "cell_type": "code",
   "execution_count": null,
   "metadata": {},
   "outputs": [],
   "source": [
    "# avec le dataset Test\n",
    "\n",
    "CNN_test = np.array(test)\n",
    "CNN_test = CNN_test.reshape(-1,28,28,1)\n",
    "CNN_test.shape"
   ]
  },
  {
   "cell_type": "code",
   "execution_count": null,
   "metadata": {},
   "outputs": [],
   "source": [
    "predict = CNN_model.predict(CNN_test)"
   ]
  },
  {
   "cell_type": "code",
   "execution_count": null,
   "metadata": {},
   "outputs": [],
   "source": [
    "n = 10\n",
    "\n",
    "# affichage des chiffres predit\n",
    "l = []\n",
    "for i in range(10):\n",
    "    l.append(predict[2500+i].argmax())\n",
    "\n",
    "print(l)\n",
    "\n",
    "# affichage des chiffres attendu\n",
    "fig, axs = plt.subplots(1,n)\n",
    "#plt.title('none normalized',loc='center')\n",
    "for i in range(n):\n",
    "    m = to_matrice(test.iloc[2500+i,:])\n",
    "    axs[i].imshow(m, cmap=plt.cm.binary)\n",
    "    #axs[i].set_title(str(i))\n",
    "    axs[i].axis('off')\n",
    "plt.show"
   ]
  }
 ],
 "metadata": {
  "kernelspec": {
   "display_name": "Python 3",
   "language": "python",
   "name": "python3"
  },
  "language_info": {
   "codemirror_mode": {
    "name": "ipython",
    "version": 3
   },
   "file_extension": ".py",
   "mimetype": "text/x-python",
   "name": "python",
   "nbconvert_exporter": "python",
   "pygments_lexer": "ipython3",
   "version": "3.7.5"
  }
 },
 "nbformat": 4,
 "nbformat_minor": 4
}
